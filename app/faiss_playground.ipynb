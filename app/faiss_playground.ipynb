{
 "cells": [
  {
   "cell_type": "code",
   "execution_count": 1,
   "metadata": {},
   "outputs": [],
   "source": [
    "\n",
    "\n",
    "import pandas as pd\n",
    "import numpy as np\n",
    "import os\n",
    "\n",
    "\n",
    "import library as lib\n",
    "from library import GlobalVars\n",
    "from library import ExperimentConfig\n",
    "import data_library as data_lib\n",
    "\n",
    "import faiss_experiment as faiss_tool\n",
    "import helpers.config_executor as executor\n",
    "\n",
    "\n",
    "from sklearn.model_selection import StratifiedKFold\n",
    "\n",
    "import experiments_configurations as ex_cfg\n",
    "#\n",
    "lib.init_random_seed(lib.RANDOM_SEED)\n",
    "\n",
    "index_type=\"ivf_all\"\n",
    "faiss_experiments_output_file = GlobalVars.experiments_path + f\"executed_faiss_experiments_index_{index_type}_kfold.csv\"\n",
    "all_faiss_experiments_file_path= GlobalVars.experiments_path + f\"all_faiss_experiments_index_{index_type}.csv\"\n",
    "lib.combine_multiple_parameters_v3(all_faiss_experiments_file_path, getattr(ex_cfg, index_type)) # ex: ex_cfg.ivf_all\n",
    "\n",
    "\n"
   ]
  },
  {
   "cell_type": "code",
   "execution_count": 2,
   "metadata": {},
   "outputs": [],
   "source": [
    "\"\"\"\n",
    "Execute ONE configuration as test calling individual process\n",
    "\"\"\"\n",
    "def execute_one_configuration_as_process():\n",
    "    os.environ[\"LOKY_MAX_CPU_COUNT\"] = \"8\"\n",
    "    debug_mode=True\n",
    "    cfg_records=pd.read_csv(all_faiss_experiments_file_path)\n",
    "    row = cfg_records.iloc[0].copy()\n",
    "    new_row = executor.launch_execute_configurations_as_process(faiss_tool, row, debug_mode=debug_mode)\n",
    "    print(\"results=\", new_row)"
   ]
  },
  {
   "cell_type": "code",
   "execution_count": 3,
   "metadata": {},
   "outputs": [],
   "source": [
    "\"\"\"\n",
    "Execute ONE configuration as test by library function call\n",
    "\"\"\"\n",
    "def execute_one_configuration():\n",
    "    debug_mode=True\n",
    "    cfg_records=pd.read_csv(all_faiss_experiments_file_path)\n",
    "    row = cfg_records.iloc[0].copy()\n",
    "    print(row)\n",
    "    print(\"index params=\", row['index_params'], type(row[\"index_params\"]))\n",
    "    cfg = ExperimentConfig(row)\n",
    "    GlobalVars.set_segment_lenght_and_overlap(cfg._SEGMENT_LENGHT, cfg._SEGMENT_OVERLAP)\n",
    "\n",
    "\n",
    "    faiss_results = faiss_tool.execute_configuration(cfg)\n",
    "    print(\"results=\", faiss_results)"
   ]
  },
  {
   "cell_type": "code",
   "execution_count": null,
   "metadata": {},
   "outputs": [
    {
     "name": "stdout",
     "output_type": "stream",
     "text": [
      "local_all_faiss_experiments_file_path= /Volumes/Extreme SSD/MASTER-AI-2023/_Disertatie/bees-analyze-vectordb/app/../experiments/all_faiss_experiments_index_ivf_all_tmp.csv\n",
      "Execute round 0\n"
     ]
    },
    {
     "name": "stderr",
     "output_type": "stream",
     "text": [
      "Process: 100%|██████████| 10/10 [03:22<00:00, 20.28s/rows]"
     ]
    },
    {
     "name": "stdout",
     "output_type": "stream",
     "text": [
      "Done\n"
     ]
    },
    {
     "name": "stderr",
     "output_type": "stream",
     "text": [
      "\n"
     ]
    }
   ],
   "source": [
    "'''\n",
    "Execute all configurations from all_faiss_experiments_file_path\n",
    "'''\n",
    "def execute_all_configurations(num_folds=0):\n",
    "    global all_faiss_experiments_file_path\n",
    "    global index_type\n",
    "    do_normalize = True\n",
    "    debug_mode = False\n",
    "    repeat_no = 5    \n",
    "\n",
    "    lib.CACHING_INDEX = False\n",
    "\n",
    "    local_all_faiss_experiments_file_path= GlobalVars.experiments_path + f\"all_faiss_experiments_index_{index_type}_tmp.csv\"\n",
    "    lib.combine_multiple_parameters_v3(all_faiss_experiments_file_path, getattr(ex_cfg, index_type)) # ex: ex_cfg.ivf_all\n",
    "    df = pd.read_csv(all_faiss_experiments_file_path)\n",
    "    df['num_folds'] = num_folds\n",
    "    #df = df.head(10)\n",
    "    df.to_csv(local_all_faiss_experiments_file_path, index=False) \n",
    "    print(\"local_all_faiss_experiments_file_path=\", local_all_faiss_experiments_file_path)\n",
    "    \n",
    "    for i in range(repeat_no):\n",
    "        print(f\"Execute round {i}\")\n",
    "        \n",
    "        #you can cache the indexes before if you want\n",
    "        #faiss_tool.cache_all_faiss_indexes(all_faiss_experiments_file_path)\n",
    "            \n",
    "        executor.debug_mod= True\n",
    "        faiss_experiments_output_file = GlobalVars.experiments_path + f\"__executed_faiss_experiments_index_{index_type}_round{i}_kfold{num_folds}.csv\"\n",
    "        executor.process_all_configs_by_threads(exec_tool=faiss_tool, input_file_path=local_all_faiss_experiments_file_path, output_file_path=faiss_experiments_output_file, num_threads = 4, chunk_size = 20)\n",
    "\n",
    "execute_all_configurations(5)"
   ]
  },
  {
   "cell_type": "code",
   "execution_count": 5,
   "metadata": {},
   "outputs": [],
   "source": [
    "\n",
    "\n",
    "# os.environ[\"LOKY_MAX_CPU_COUNT\"] = \"8\"\n",
    "# debug_mode=True\n",
    "# cfg_records=pd.read_csv(all_faiss_experiments_file_path)\n",
    "# row = cfg_records.iloc[1].copy()\n",
    "# row[\"num_folds\"] = 5\n",
    "# cfg = ExperimentConfig(row)\n",
    "# cfg._USE_CACHE = False\n",
    "# #cfg._SEGMENT_OVERLAP = 5\n",
    "# GlobalVars.set_segment_lenght_and_overlap(cfg._SEGMENT_LENGHT, cfg._SEGMENT_OVERLAP)\n",
    "# # metrics_json = faiss_tool.execute_configuration(cfg)\n",
    "# # print(\"==========================================================================\")\n",
    "# # new_row = row.copy()\n",
    "# results = executor.launch_execute_configurations_as_process(faiss_tool, row, debug_mode=debug_mode)\n",
    "# # error = \"\"\n",
    "# # print(metrics_json)\n",
    "# # print(metrics_json[\"accuracy_score\"])\n",
    "# # new_row = lib.extract_experiment_results(new_row=new_row, tool_results=metrics_json, process_key=\"1111222222\", error=error)\n",
    "# # print(\"results=\", new_row)\n",
    "\n",
    "# print(results)"
   ]
  }
 ],
 "metadata": {
  "kernelspec": {
   "display_name": "beesproject",
   "language": "python",
   "name": "python3"
  },
  "language_info": {
   "codemirror_mode": {
    "name": "ipython",
    "version": 3
   },
   "file_extension": ".py",
   "mimetype": "text/x-python",
   "name": "python",
   "nbconvert_exporter": "python",
   "pygments_lexer": "ipython3",
   "version": "3.11.10"
  }
 },
 "nbformat": 4,
 "nbformat_minor": 2
}
