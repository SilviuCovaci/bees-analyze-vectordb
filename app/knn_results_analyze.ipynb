{
 "cells": [
  {
   "cell_type": "code",
   "execution_count": null,
   "metadata": {},
   "outputs": [],
   "source": [
    "import numpy as np\n",
    "import pandas as pd\n",
    "import matplotlib.pyplot as plt\n",
    "from matplotlib import cm\n",
    "from matplotlib import colormaps\n",
    "import os\n",
    "    \n",
    "import library as lib\n",
    "import knn_experiment as knn_tool"
   ]
  },
  {
   "cell_type": "code",
   "execution_count": null,
   "metadata": {},
   "outputs": [],
   "source": [
    "#results_file_path='experiments' + os.sep + '20250603_executed_knn_configs_results_pe.csv'\n",
    "#results_file_path='experiments' + os.sep + '20250604_executed_knn_configs_results_nonpe.csv'\n",
    "results_file_path='experiments' + os.sep + '20250617_executed_knn_configs_results_pe.csv'\n",
    "df_sorted = lib.load_resuls_file(results_file_path)\n",
    "top1_n = 10\n",
    "top2_n = 100\n",
    "df_top1, df_top2 = lib.print_results_stat(df_sorted, top1_n, top2_n)\n",
    "\n",
    "\n",
    "df_cosine = df_top1[df_top1['metric_type'] == 'cosine']\n",
    "df_correlation = df_top1[df_top1['metric_type'] == 'correlation']\n",
    "print('Cosine avg train time (s):', df_cosine['train_elapsed_time'].mean(), \"Train memory:\", df_cosine['train_used_memory'].mean(),  \"Predict time (S)\", df_cosine['predict_elapsed_time'].mean(), \"Predict memory (MB):\", df_cosine['predict_used_memory'].mean())\n",
    "print('Cosine avg train time (s):', df_correlation['train_elapsed_time'].mean(), \"Train memory:\", df_correlation['train_used_memory'].mean(), \"Predict time (S)\", df_correlation['predict_elapsed_time'].mean(), \"Predict memory (MB):\", df_correlation['predict_used_memory'].mean())\n",
    "# lucky_winner = {}\n",
    "# lucky_winner['segment_lenght'] = lib.display_one_param_pie(\"segment_lenght\", df_sorted, df_top1, df_top2, top1_n, top2_n, \"Segment lenght\")\n",
    "# lib.display_2params_pie(\"segment_lenght\", \"segment_overlap\", df_sorted, df_top1, df_top2, top1_n, top2_n, \"Segment lenght and Overlap\")\n",
    "# lucky_winner['feature'] = lib.display_one_param_pie(\"feature\", df_sorted, df_top1, df_top2, top1_n, top2_n, \"Applied feature\")\n",
    "# lucky_winner['vector_operation'] = lib.display_one_param_pie(\"vector_operation\", df_sorted, df_top1, df_top2, top1_n, top2_n, \"Feature Agregation\")\n",
    "# #lib.display_2params_pie(\"feature\", \"vector_operation\", df_sorted, df_top100, df_top200, 100, 200, \"Feature and agregation\")\n",
    "# lucky_winner['metric_type'] = lib.display_one_param_pie(\"metric_type\", df_sorted, df_top1, df_top2, top1_n, top2_n, \"Metric Type\")\n",
    "# lucky_winner['index_type'] = lib.display_one_param_pie(\"index_type\", df_sorted, df_top1, df_top2, top1_n, top2_n, \"Weights\")\n",
    "# lucky_winner['index_params'] = lib.display_one_param_pie(\"index_params\", df_sorted, df_top1, df_top2, top1_n, top2_n, \"Neighbours Number\")\n",
    "\n",
    "# knn_tool.report_results(results_file_path, 10)"
   ]
  }
 ],
 "metadata": {
  "kernelspec": {
   "display_name": "Python 3",
   "language": "python",
   "name": "python3"
  },
  "language_info": {
   "codemirror_mode": {
    "name": "ipython",
    "version": 3
   },
   "file_extension": ".py",
   "mimetype": "text/x-python",
   "name": "python",
   "nbconvert_exporter": "python",
   "pygments_lexer": "ipython3",
   "version": "3.11.4"
  }
 },
 "nbformat": 4,
 "nbformat_minor": 2
}
