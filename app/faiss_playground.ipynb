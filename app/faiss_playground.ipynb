{
 "cells": [
  {
   "cell_type": "code",
   "execution_count": null,
   "metadata": {},
   "outputs": [],
   "source": [
    "\n",
    "\n",
    "import pandas as pd\n",
    "import numpy as np\n",
    "import os\n",
    "\n",
    "\n",
    "import library as lib\n",
    "from library import GlobalVars\n",
    "from library import ExperimentConfig\n",
    "import data_library as data_lib\n",
    "\n",
    "import faiss_experiment as faiss_tool\n",
    "import helpers.config_executor as executor\n",
    "\n",
    "\n",
    "import experiments_configurations as ex_cfg\n",
    "#\n",
    "lib.init_random_seed(lib.RANDOM_SEED)\n",
    "\n",
    "index_type=\"ivf_all\"\n",
    "faiss_experiments_output_file = GlobalVars.experiments_path + f\"executed_faiss_experiments_index_{index_type}.csv\"\n",
    "all_faiss_experiments_file_path= GlobalVars.experiments_path + f\"all_faiss_experiments_index_{index_type}.csv\"\n",
    "lib.combine_multiple_parameters_v3(all_faiss_experiments_file_path, ex_cfg.ivf_all)\n",
    "\n",
    "\n"
   ]
  },
  {
   "cell_type": "code",
   "execution_count": null,
   "metadata": {},
   "outputs": [
    {
     "name": "stdout",
     "output_type": "stream",
     "text": [
      "segment_lenght                                           10\n",
      "segment_overlap                                         all\n",
      "feature                                          pe-mfcc_40\n",
      "vector_operation                                       mean\n",
      "metric_type                                          cosine\n",
      "vote_type                                           uniform\n",
      "neighbors                                                15\n",
      "index_params        {'params':'IVF1000,Flat', 'nprobe': 20}\n",
      "Name: 0, dtype: object\n",
      "stdout: dataset_path= c:\\_MasterAI\\_Disertatie\\bees-analyze-vectordb\\app\\..\\dataset\\\n",
      "configs json= {'segment_lenght': 10, 'segment_overlap': 'all', 'feature': 'pe-mfcc_40', 'vector_operation': 'mean', 'metric_type': 'cosine', 'vote_type': 'uniform', 'neighbors': 15, 'index_params': \"{'params':'IVF1000,Flat', 'nprobe': 20}\", 'normalize': 1, 'balanced_type': 1}\n",
      "Param random seed: 0\n",
      "index_specific_params= {'params': 'IVF1000,Flat', 'nprobe': 20} <class 'dict'>\n",
      "train:c:\\_MasterAI\\_Disertatie\\bees-analyze-vectordb\\app\\..\\dataset\\extended_segments_10_sec_overlap_5\\__vectors_pe-mfcc_40_mean.cache\n",
      "test:c:\\_MasterAI\\_Disertatie\\bees-analyze-vectordb\\app\\..\\dataset\\extended_segments_10_sec_overlap_5\\__vectors_pe-mfcc_40_mean.cache\n",
      "use cache=True;file exists=False;path=c:\\_MasterAI\\_Disertatie\\bees-analyze-vectordb\\app\\..\\faiss_index\\pe_mfcc_40_vectors_mean_len10_overlapallIVF1000,Flat_None_cosine.index.faiss\n",
      "random seed was set to: 42\n",
      "index params= IVF1000,Flat\n",
      "Create FAISS index:IVF1000,Flat with metric 0#cosine\n",
      "set nproble=20\n",
      "neighbors= 15\n",
      "Acurracy FAISS: 93.79%\n",
      "{'neighbors': 15, 'vote_type': 'uniform', 'accuracy_score': 0.9379388878345037, 'confusion_matrix': [[1436, 65, 7, 32], [47, 1219, 70, 72], [37, 108, 2029, 114], [30, 23, 49, 5200]], 'classification_report': {'0': {'precision': 0.9264516129032258, 'recall': 0.9324675324675324, 'f1-score': 0.9294498381877022, 'support': 1540.0}, '1': {'precision': 0.8614840989399293, 'recall': 0.8657670454545454, 'f1-score': 0.8636202621324832, 'support': 1408.0}, '2': {'precision': 0.9415313225058005, 'recall': 0.8868006993006993, 'f1-score': 0.9133468377222598, 'support': 2288.0}, '3': {'precision': 0.9597637504614249, 'recall': 0.980761976612599, 'f1-score': 0.9701492537313433, 'support': 5302.0}, 'accuracy': 0.9379388878345037, 'macro avg': {'precision': 0.9223076962025951, 'recall': 0.9164493134588441, 'f1-score': 0.9191415479434472, 'support': 10538.0}, 'weighted avg': {'precision': 0.937805671476384, 'recall': 0.9379388878345037, 'f1-score': 0.9376351288559225, 'support': 10538.0}}, 'training_set_size': 41723, 'testing_set_size': 10538, 'train_elapsed_time': 0.5153106001671404, 'predict_elapsed_time': 0.07494479999877512, 'train_used_memory': 6.845095634460449, 'predict_used_memory': 246.1015625}\n",
      "\n",
      "results= segment_lenght                                               10\n",
      "segment_overlap                                             all\n",
      "feature                                              pe-mfcc_40\n",
      "vector_operation                                           mean\n",
      "metric_type                                              cosine\n",
      "vote_type                                               uniform\n",
      "neighbors                                                    15\n",
      "index_params            {'params':'IVF1000,Flat', 'nprobe': 20}\n",
      "skipped                                                   False\n",
      "accuracy                                               0.937939\n",
      "precision_0                                            0.926452\n",
      "precision_1                                            0.861484\n",
      "precision_2                                            0.941531\n",
      "precision_3                                            0.959764\n",
      "training_set_size                                         41723\n",
      "testing_set_size                                          10538\n",
      "train_elapsed_time                                     0.515311\n",
      "predict_elapsed_time                                   0.074945\n",
      "train_used_memory                                      6.845096\n",
      "predict_used_memory                                  246.101562\n",
      "row_key                        ebd4e80074ca415d5f503e39c70492a7\n",
      "Name: 0, dtype: object\n"
     ]
    }
   ],
   "source": [
    "\"\"\"\n",
    "Execute ONE configuration as test calling individual process\n",
    "\"\"\"\n",
    "os.environ[\"LOKY_MAX_CPU_COUNT\"] = \"8\"\n",
    "debug_mode=True\n",
    "cfg_records=pd.read_csv(all_faiss_experiments_file_path)\n",
    "row = cfg_records.iloc[0].copy()\n",
    "print(row)\n",
    "# new_row = executor.launch_execute_configurations_as_process(faiss_tool, row, debug_mode=debug_mode)\n",
    "print(\"results=\", new_row)"
   ]
  },
  {
   "cell_type": "code",
   "execution_count": 5,
   "metadata": {},
   "outputs": [
    {
     "name": "stdout",
     "output_type": "stream",
     "text": [
      "segment_lenght                                           10\n",
      "segment_overlap                                         all\n",
      "feature                                          pe-mfcc_40\n",
      "vector_operation                                       mean\n",
      "metric_type                                          cosine\n",
      "vote_type                                           uniform\n",
      "neighbors                                                15\n",
      "index_params        {'params':'IVF1000,Flat', 'nprobe': 20}\n",
      "Name: 0, dtype: object\n",
      "index_specific_params= {'params': 'IVF1000,Flat', 'nprobe': 20} <class 'dict'>\n",
      "train:c:\\_MasterAI\\_Disertatie\\bees-analyze-vectordb\\app\\..\\dataset\\extended_segments_10_sec_overlap_5\\__vectors_pe-mfcc_40_mean.cache\n",
      "test:c:\\_MasterAI\\_Disertatie\\bees-analyze-vectordb\\app\\..\\dataset\\extended_segments_10_sec_overlap_5\\__vectors_pe-mfcc_40_mean.cache\n",
      "use cache=True;file exists=False;path=c:\\_MasterAI\\_Disertatie\\bees-analyze-vectordb\\app\\..\\faiss_index\\pe_mfcc_40_vectors_mean_len10_overlapallIVF1000,Flat_None_cosine.index.faiss\n",
      "random seed was set to: 42\n",
      "index params= IVF1000,Flat\n",
      "Create FAISS index:IVF1000,Flat with metric 0#cosine\n",
      "set nproble=20\n",
      "neighbors= 15\n"
     ]
    },
    {
     "ename": "TypeError",
     "evalue": "Wrong number or type of arguments for overloaded function 'IndexIVF_search'.\n  Possible C/C++ prototypes are:\n    faiss::IndexIVF::search(faiss::idx_t,float const *,faiss::idx_t,float *,faiss::idx_t *,faiss::SearchParameters const *) const\n    faiss::IndexIVF::search(faiss::idx_t,float const *,faiss::idx_t,float *,faiss::idx_t *) const\n",
     "output_type": "error",
     "traceback": [
      "\u001b[1;31m---------------------------------------------------------------------------\u001b[0m",
      "\u001b[1;31mTypeError\u001b[0m                                 Traceback (most recent call last)",
      "\u001b[1;32m~\\AppData\\Local\\Temp\\ipykernel_35280\\1517414914.py\u001b[0m in \u001b[0;36m?\u001b[1;34m()\u001b[0m\n\u001b[0;32m      6\u001b[0m \u001b[0mrow\u001b[0m \u001b[1;33m=\u001b[0m \u001b[0mcfg_records\u001b[0m\u001b[1;33m.\u001b[0m\u001b[0miloc\u001b[0m\u001b[1;33m[\u001b[0m\u001b[1;36m0\u001b[0m\u001b[1;33m]\u001b[0m\u001b[1;33m.\u001b[0m\u001b[0mcopy\u001b[0m\u001b[1;33m(\u001b[0m\u001b[1;33m)\u001b[0m\u001b[1;33m\u001b[0m\u001b[1;33m\u001b[0m\u001b[0m\n\u001b[0;32m      7\u001b[0m \u001b[0mprint\u001b[0m\u001b[1;33m(\u001b[0m\u001b[0mrow\u001b[0m\u001b[1;33m)\u001b[0m\u001b[1;33m\u001b[0m\u001b[1;33m\u001b[0m\u001b[0m\n\u001b[0;32m      8\u001b[0m \u001b[0mcfg\u001b[0m \u001b[1;33m=\u001b[0m \u001b[0mExperimentConfig\u001b[0m\u001b[1;33m(\u001b[0m\u001b[0mrow\u001b[0m\u001b[1;33m)\u001b[0m\u001b[1;33m\u001b[0m\u001b[1;33m\u001b[0m\u001b[0m\n\u001b[0;32m      9\u001b[0m \u001b[0mGlobalVars\u001b[0m\u001b[1;33m.\u001b[0m\u001b[0mset_segment_lenght_and_overlap\u001b[0m\u001b[1;33m(\u001b[0m\u001b[0mcfg\u001b[0m\u001b[1;33m.\u001b[0m\u001b[0m_SEGMENT_LENGHT\u001b[0m\u001b[1;33m,\u001b[0m \u001b[0mcfg\u001b[0m\u001b[1;33m.\u001b[0m\u001b[0m_SEGMENT_OVERLAP\u001b[0m\u001b[1;33m)\u001b[0m\u001b[1;33m\u001b[0m\u001b[1;33m\u001b[0m\u001b[0m\n\u001b[1;32m---> 10\u001b[1;33m \u001b[0mfaiss_results\u001b[0m \u001b[1;33m=\u001b[0m \u001b[0mfaiss_tool\u001b[0m\u001b[1;33m.\u001b[0m\u001b[0mexecute_configuration\u001b[0m\u001b[1;33m(\u001b[0m\u001b[0mcfg\u001b[0m\u001b[1;33m)\u001b[0m\u001b[1;33m\u001b[0m\u001b[1;33m\u001b[0m\u001b[0m\n\u001b[0m\u001b[0;32m     11\u001b[0m \u001b[0mprint\u001b[0m\u001b[1;33m(\u001b[0m\u001b[1;34m\"results=\"\u001b[0m\u001b[1;33m,\u001b[0m \u001b[0mfaiss_results\u001b[0m\u001b[1;33m)\u001b[0m\u001b[1;33m\u001b[0m\u001b[1;33m\u001b[0m\u001b[0m\n",
      "\u001b[1;32mc:\\_MasterAI\\_Disertatie\\bees-analyze-vectordb\\app\\faiss_experiment.py\u001b[0m in \u001b[0;36m?\u001b[1;34m(cfg)\u001b[0m\n\u001b[0;32m    280\u001b[0m \u001b[1;32mdef\u001b[0m \u001b[0mexecute_configuration\u001b[0m\u001b[1;33m(\u001b[0m\u001b[0mcfg\u001b[0m\u001b[1;33m)\u001b[0m\u001b[1;33m:\u001b[0m\u001b[1;33m\u001b[0m\u001b[1;33m\u001b[0m\u001b[0m\n\u001b[0;32m    281\u001b[0m     \u001b[0mX_train\u001b[0m\u001b[1;33m,\u001b[0m \u001b[0my_train\u001b[0m\u001b[1;33m,\u001b[0m \u001b[0mX_test\u001b[0m\u001b[1;33m,\u001b[0m \u001b[0my_test\u001b[0m \u001b[1;33m=\u001b[0m \u001b[0mdata_lib\u001b[0m\u001b[1;33m.\u001b[0m\u001b[0mload_training_and_testing_data_for_vectordb\u001b[0m\u001b[1;33m(\u001b[0m\u001b[0mcfg\u001b[0m\u001b[1;33m=\u001b[0m\u001b[0mcfg\u001b[0m\u001b[1;33m)\u001b[0m\u001b[1;33m\u001b[0m\u001b[1;33m\u001b[0m\u001b[0m\n\u001b[0;32m    282\u001b[0m \u001b[1;33m\u001b[0m\u001b[0m\n\u001b[1;32m--> 283\u001b[1;33m     \u001b[0mmetrics_json\u001b[0m\u001b[1;33m,\u001b[0m \u001b[0my_pred\u001b[0m \u001b[1;33m=\u001b[0m \u001b[0mexecute_and_test_faiss\u001b[0m\u001b[1;33m(\u001b[0m\u001b[0mX_train\u001b[0m\u001b[1;33m,\u001b[0m \u001b[0my_train\u001b[0m\u001b[1;33m,\u001b[0m \u001b[0mX_test\u001b[0m\u001b[1;33m,\u001b[0m \u001b[0my_test\u001b[0m\u001b[1;33m,\u001b[0m \u001b[0mcfg\u001b[0m\u001b[1;33m)\u001b[0m\u001b[1;33m\u001b[0m\u001b[1;33m\u001b[0m\u001b[0m\n\u001b[0m\u001b[0;32m    284\u001b[0m     \u001b[1;32mreturn\u001b[0m \u001b[0mmetrics_json\u001b[0m\u001b[1;33m\u001b[0m\u001b[1;33m\u001b[0m\u001b[0m\n",
      "\u001b[1;32mc:\\_MasterAI\\_Disertatie\\bees-analyze-vectordb\\app\\faiss_experiment.py\u001b[0m in \u001b[0;36m?\u001b[1;34m(X_train, y_train, X_test, y_test, cfg)\u001b[0m\n\u001b[0;32m    242\u001b[0m     \u001b[0mprint\u001b[0m\u001b[1;33m(\u001b[0m\u001b[1;34m\"neighbors=\"\u001b[0m\u001b[1;33m,\u001b[0m \u001b[0mneighbors\u001b[0m\u001b[1;33m)\u001b[0m\u001b[1;33m\u001b[0m\u001b[1;33m\u001b[0m\u001b[0m\n\u001b[0;32m    243\u001b[0m     \u001b[0mvote_type\u001b[0m \u001b[1;33m=\u001b[0m \u001b[0mcfg\u001b[0m\u001b[1;33m.\u001b[0m\u001b[0m_INDEX_PARAMS\u001b[0m\u001b[1;33m.\u001b[0m\u001b[0mget\u001b[0m\u001b[1;33m(\u001b[0m\u001b[1;34m\"index_type\"\u001b[0m\u001b[1;33m,\u001b[0m \u001b[1;34m\"uniform\"\u001b[0m\u001b[1;33m)\u001b[0m\u001b[1;33m\u001b[0m\u001b[1;33m\u001b[0m\u001b[0m\n\u001b[0;32m    244\u001b[0m \u001b[1;33m\u001b[0m\u001b[0m\n\u001b[0;32m    245\u001b[0m \u001b[1;33m\u001b[0m\u001b[0m\n\u001b[1;32m--> 246\u001b[1;33m     metrics = lib.measure_perf(\n\u001b[0m\u001b[0;32m    247\u001b[0m         \u001b[0mpredict_with_faiss_index\u001b[0m\u001b[1;33m,\u001b[0m\u001b[1;33m\u001b[0m\u001b[1;33m\u001b[0m\u001b[0m\n\u001b[0;32m    248\u001b[0m         \u001b[0mfaiss_index\u001b[0m \u001b[1;33m=\u001b[0m \u001b[0mindex\u001b[0m\u001b[1;33m,\u001b[0m\u001b[1;33m\u001b[0m\u001b[1;33m\u001b[0m\u001b[0m\n\u001b[0;32m    249\u001b[0m         \u001b[0my_train\u001b[0m\u001b[1;33m=\u001b[0m\u001b[0my_train\u001b[0m\u001b[1;33m,\u001b[0m\u001b[1;33m\u001b[0m\u001b[1;33m\u001b[0m\u001b[0m\n",
      "\u001b[1;32mc:\\_MasterAI\\_Disertatie\\bees-analyze-vectordb\\app\\library.py\u001b[0m in \u001b[0;36m?\u001b[1;34m(func, *args, **kwargs)\u001b[0m\n\u001b[0;32m    969\u001b[0m     \u001b[0mmonitor_thread\u001b[0m\u001b[1;33m.\u001b[0m\u001b[0mstart\u001b[0m\u001b[1;33m(\u001b[0m\u001b[1;33m)\u001b[0m\u001b[1;33m\u001b[0m\u001b[1;33m\u001b[0m\u001b[0m\n\u001b[0;32m    970\u001b[0m \u001b[1;33m\u001b[0m\u001b[0m\n\u001b[0;32m    971\u001b[0m     \u001b[1;31m# start time measure and call function\u001b[0m\u001b[1;33m\u001b[0m\u001b[1;33m\u001b[0m\u001b[0m\n\u001b[0;32m    972\u001b[0m     \u001b[0mstart_time\u001b[0m \u001b[1;33m=\u001b[0m \u001b[0mtime\u001b[0m\u001b[1;33m.\u001b[0m\u001b[0mperf_counter\u001b[0m\u001b[1;33m(\u001b[0m\u001b[1;33m)\u001b[0m\u001b[1;33m\u001b[0m\u001b[1;33m\u001b[0m\u001b[0m\n\u001b[1;32m--> 973\u001b[1;33m     \u001b[0mresult\u001b[0m \u001b[1;33m=\u001b[0m \u001b[0mfunc\u001b[0m\u001b[1;33m(\u001b[0m\u001b[1;33m*\u001b[0m\u001b[0margs\u001b[0m\u001b[1;33m,\u001b[0m \u001b[1;33m**\u001b[0m\u001b[0mkwargs\u001b[0m\u001b[1;33m)\u001b[0m\u001b[1;33m\u001b[0m\u001b[1;33m\u001b[0m\u001b[0m\n\u001b[0m\u001b[0;32m    974\u001b[0m     \u001b[0melapsed_time\u001b[0m \u001b[1;33m=\u001b[0m \u001b[0mtime\u001b[0m\u001b[1;33m.\u001b[0m\u001b[0mperf_counter\u001b[0m\u001b[1;33m(\u001b[0m\u001b[1;33m)\u001b[0m \u001b[1;33m-\u001b[0m \u001b[0mstart_time\u001b[0m\u001b[1;33m\u001b[0m\u001b[1;33m\u001b[0m\u001b[0m\n\u001b[0;32m    975\u001b[0m \u001b[1;33m\u001b[0m\u001b[0m\n\u001b[0;32m    976\u001b[0m     \u001b[1;31m# oprește monitorizarea\u001b[0m\u001b[1;33m\u001b[0m\u001b[1;33m\u001b[0m\u001b[0m\n",
      "\u001b[1;32mc:\\_MasterAI\\_Disertatie\\bees-analyze-vectordb\\app\\faiss_experiment.py\u001b[0m in \u001b[0;36m?\u001b[1;34m(faiss_index, test_data, y_train, vote_type, neighbors, cfg)\u001b[0m\n\u001b[0;32m    158\u001b[0m     \u001b[1;32melif\u001b[0m \u001b[0mvote_type\u001b[0m \u001b[1;33m==\u001b[0m \u001b[1;34m'distance'\u001b[0m\u001b[1;33m:\u001b[0m\u001b[1;33m\u001b[0m\u001b[1;33m\u001b[0m\u001b[0m\n\u001b[0;32m    159\u001b[0m         \u001b[0mpredict_func\u001b[0m \u001b[1;33m=\u001b[0m \u001b[0mpredict_faiss_weighted\u001b[0m\u001b[1;33m\u001b[0m\u001b[1;33m\u001b[0m\u001b[0m\n\u001b[0;32m    160\u001b[0m     \u001b[1;32melse\u001b[0m\u001b[1;33m:\u001b[0m\u001b[1;33m\u001b[0m\u001b[1;33m\u001b[0m\u001b[0m\n\u001b[0;32m    161\u001b[0m         \u001b[0mprint\u001b[0m\u001b[1;33m(\u001b[0m\u001b[1;34m\"vote type not specified!\"\u001b[0m\u001b[1;33m)\u001b[0m\u001b[1;33m\u001b[0m\u001b[1;33m\u001b[0m\u001b[0m\n\u001b[1;32m--> 162\u001b[1;33m     \u001b[1;32mreturn\u001b[0m \u001b[0mpredict_func\u001b[0m\u001b[1;33m(\u001b[0m\u001b[0mfaiss_index\u001b[0m\u001b[1;33m,\u001b[0m \u001b[0my_train\u001b[0m\u001b[1;33m=\u001b[0m\u001b[0my_train\u001b[0m\u001b[1;33m,\u001b[0m \u001b[0mquery_vectors\u001b[0m\u001b[1;33m=\u001b[0m\u001b[0mtest_data\u001b[0m\u001b[1;33m,\u001b[0m \u001b[0mk\u001b[0m\u001b[1;33m=\u001b[0m\u001b[0mneighbors\u001b[0m\u001b[1;33m)\u001b[0m\u001b[1;33m\u001b[0m\u001b[1;33m\u001b[0m\u001b[0m\n\u001b[0m",
      "\u001b[1;32mc:\\_MasterAI\\_Disertatie\\bees-analyze-vectordb\\app\\faiss_experiment.py\u001b[0m in \u001b[0;36m?\u001b[1;34m(index, y_train, query_vectors, k)\u001b[0m\n\u001b[0;32m     88\u001b[0m     \"\"\"\n\u001b[0;32m     89\u001b[0m     \u001b[0mmetadata_df\u001b[0m \u001b[1;33m=\u001b[0m \u001b[0mpd\u001b[0m\u001b[1;33m.\u001b[0m\u001b[0mDataFrame\u001b[0m\u001b[1;33m(\u001b[0m\u001b[1;33m{\u001b[0m\u001b[1;34m'label'\u001b[0m\u001b[1;33m:\u001b[0m \u001b[0my_train\u001b[0m\u001b[1;33m}\u001b[0m\u001b[1;33m)\u001b[0m\u001b[1;33m\u001b[0m\u001b[1;33m\u001b[0m\u001b[0m\n\u001b[0;32m     90\u001b[0m     \u001b[0mlabel_array\u001b[0m \u001b[1;33m=\u001b[0m \u001b[0mmetadata_df\u001b[0m\u001b[1;33m[\u001b[0m\u001b[1;34m'label'\u001b[0m\u001b[1;33m]\u001b[0m\u001b[1;33m.\u001b[0m\u001b[0mvalues\u001b[0m\u001b[1;33m\u001b[0m\u001b[1;33m\u001b[0m\u001b[0m\n\u001b[0;32m     91\u001b[0m \u001b[1;33m\u001b[0m\u001b[0m\n\u001b[1;32m---> 92\u001b[1;33m     \u001b[0mdistances\u001b[0m\u001b[1;33m,\u001b[0m \u001b[0mindices\u001b[0m \u001b[1;33m=\u001b[0m \u001b[0mindex\u001b[0m\u001b[1;33m.\u001b[0m\u001b[0msearch\u001b[0m\u001b[1;33m(\u001b[0m\u001b[0mquery_vectors\u001b[0m\u001b[1;33m,\u001b[0m \u001b[0mk\u001b[0m\u001b[1;33m)\u001b[0m\u001b[1;33m\u001b[0m\u001b[1;33m\u001b[0m\u001b[0m\n\u001b[0m\u001b[0;32m     93\u001b[0m     \u001b[0mneighbor_labels\u001b[0m \u001b[1;33m=\u001b[0m \u001b[0mlabel_array\u001b[0m\u001b[1;33m[\u001b[0m\u001b[0mindices\u001b[0m\u001b[1;33m]\u001b[0m\u001b[1;33m\u001b[0m\u001b[1;33m\u001b[0m\u001b[0m\n\u001b[0;32m     94\u001b[0m     \u001b[0mpredictions\u001b[0m \u001b[1;33m=\u001b[0m \u001b[0mnp\u001b[0m\u001b[1;33m.\u001b[0m\u001b[0mapply_along_axis\u001b[0m\u001b[1;33m(\u001b[0m\u001b[0mlib\u001b[0m\u001b[1;33m.\u001b[0m\u001b[0mmajority_vote\u001b[0m\u001b[1;33m,\u001b[0m \u001b[0maxis\u001b[0m\u001b[1;33m=\u001b[0m\u001b[1;36m1\u001b[0m\u001b[1;33m,\u001b[0m \u001b[0marr\u001b[0m\u001b[1;33m=\u001b[0m\u001b[0mneighbor_labels\u001b[0m\u001b[1;33m)\u001b[0m\u001b[1;33m\u001b[0m\u001b[1;33m\u001b[0m\u001b[0m\n\u001b[0;32m     95\u001b[0m \u001b[1;33m\u001b[0m\u001b[0m\n",
      "\u001b[1;32mc:\\Users\\scova\\AppData\\Local\\Programs\\Python\\Python311\\Lib\\site-packages\\faiss\\class_wrappers.py\u001b[0m in \u001b[0;36m?\u001b[1;34m(self, x, k, params, D, I)\u001b[0m\n\u001b[0;32m    339\u001b[0m             \u001b[0mI\u001b[0m \u001b[1;33m=\u001b[0m \u001b[0mnp\u001b[0m\u001b[1;33m.\u001b[0m\u001b[0mempty\u001b[0m\u001b[1;33m(\u001b[0m\u001b[1;33m(\u001b[0m\u001b[0mn\u001b[0m\u001b[1;33m,\u001b[0m \u001b[0mk\u001b[0m\u001b[1;33m)\u001b[0m\u001b[1;33m,\u001b[0m \u001b[0mdtype\u001b[0m\u001b[1;33m=\u001b[0m\u001b[0mnp\u001b[0m\u001b[1;33m.\u001b[0m\u001b[0mint64\u001b[0m\u001b[1;33m)\u001b[0m\u001b[1;33m\u001b[0m\u001b[1;33m\u001b[0m\u001b[0m\n\u001b[0;32m    340\u001b[0m         \u001b[1;32melse\u001b[0m\u001b[1;33m:\u001b[0m\u001b[1;33m\u001b[0m\u001b[1;33m\u001b[0m\u001b[0m\n\u001b[0;32m    341\u001b[0m             \u001b[1;32massert\u001b[0m \u001b[0mI\u001b[0m\u001b[1;33m.\u001b[0m\u001b[0mshape\u001b[0m \u001b[1;33m==\u001b[0m \u001b[1;33m(\u001b[0m\u001b[0mn\u001b[0m\u001b[1;33m,\u001b[0m \u001b[0mk\u001b[0m\u001b[1;33m)\u001b[0m\u001b[1;33m\u001b[0m\u001b[1;33m\u001b[0m\u001b[0m\n\u001b[0;32m    342\u001b[0m \u001b[1;33m\u001b[0m\u001b[0m\n\u001b[1;32m--> 343\u001b[1;33m         \u001b[0mself\u001b[0m\u001b[1;33m.\u001b[0m\u001b[0msearch_c\u001b[0m\u001b[1;33m(\u001b[0m\u001b[0mn\u001b[0m\u001b[1;33m,\u001b[0m \u001b[0mswig_ptr\u001b[0m\u001b[1;33m(\u001b[0m\u001b[0mx\u001b[0m\u001b[1;33m)\u001b[0m\u001b[1;33m,\u001b[0m \u001b[0mk\u001b[0m\u001b[1;33m,\u001b[0m \u001b[0mswig_ptr\u001b[0m\u001b[1;33m(\u001b[0m\u001b[0mD\u001b[0m\u001b[1;33m)\u001b[0m\u001b[1;33m,\u001b[0m \u001b[0mswig_ptr\u001b[0m\u001b[1;33m(\u001b[0m\u001b[0mI\u001b[0m\u001b[1;33m)\u001b[0m\u001b[1;33m,\u001b[0m \u001b[0mparams\u001b[0m\u001b[1;33m)\u001b[0m\u001b[1;33m\u001b[0m\u001b[1;33m\u001b[0m\u001b[0m\n\u001b[0m\u001b[0;32m    344\u001b[0m         \u001b[1;32mreturn\u001b[0m \u001b[0mD\u001b[0m\u001b[1;33m,\u001b[0m \u001b[0mI\u001b[0m\u001b[1;33m\u001b[0m\u001b[1;33m\u001b[0m\u001b[0m\n",
      "\u001b[1;32mc:\\Users\\scova\\AppData\\Local\\Programs\\Python\\Python311\\Lib\\site-packages\\faiss\\swigfaiss_avx2.py\u001b[0m in \u001b[0;36m?\u001b[1;34m(self, n, x, k, distances, labels, params)\u001b[0m\n\u001b[0;32m   5950\u001b[0m     \u001b[1;32mdef\u001b[0m \u001b[0msearch\u001b[0m\u001b[1;33m(\u001b[0m\u001b[0mself\u001b[0m\u001b[1;33m,\u001b[0m \u001b[0mn\u001b[0m\u001b[1;33m,\u001b[0m \u001b[0mx\u001b[0m\u001b[1;33m,\u001b[0m \u001b[0mk\u001b[0m\u001b[1;33m,\u001b[0m \u001b[0mdistances\u001b[0m\u001b[1;33m,\u001b[0m \u001b[0mlabels\u001b[0m\u001b[1;33m,\u001b[0m \u001b[0mparams\u001b[0m\u001b[1;33m=\u001b[0m\u001b[1;32mNone\u001b[0m\u001b[1;33m)\u001b[0m\u001b[1;33m:\u001b[0m\u001b[1;33m\u001b[0m\u001b[1;33m\u001b[0m\u001b[0m\n\u001b[0;32m   5951\u001b[0m         \u001b[1;34mr\"\"\" assign the vectors, then call search_preassign\"\"\"\u001b[0m\u001b[1;33m\u001b[0m\u001b[1;33m\u001b[0m\u001b[0m\n\u001b[1;32m-> 5952\u001b[1;33m         \u001b[1;32mreturn\u001b[0m \u001b[0m_swigfaiss_avx2\u001b[0m\u001b[1;33m.\u001b[0m\u001b[0mIndexIVF_search\u001b[0m\u001b[1;33m(\u001b[0m\u001b[0mself\u001b[0m\u001b[1;33m,\u001b[0m \u001b[0mn\u001b[0m\u001b[1;33m,\u001b[0m \u001b[0mx\u001b[0m\u001b[1;33m,\u001b[0m \u001b[0mk\u001b[0m\u001b[1;33m,\u001b[0m \u001b[0mdistances\u001b[0m\u001b[1;33m,\u001b[0m \u001b[0mlabels\u001b[0m\u001b[1;33m,\u001b[0m \u001b[0mparams\u001b[0m\u001b[1;33m)\u001b[0m\u001b[1;33m\u001b[0m\u001b[1;33m\u001b[0m\u001b[0m\n\u001b[0m",
      "\u001b[1;31mTypeError\u001b[0m: Wrong number or type of arguments for overloaded function 'IndexIVF_search'.\n  Possible C/C++ prototypes are:\n    faiss::IndexIVF::search(faiss::idx_t,float const *,faiss::idx_t,float *,faiss::idx_t *,faiss::SearchParameters const *) const\n    faiss::IndexIVF::search(faiss::idx_t,float const *,faiss::idx_t,float *,faiss::idx_t *) const\n"
     ]
    }
   ],
   "source": [
    "\"\"\"\n",
    "Execute ONE configuration as test by library function call\n",
    "\"\"\"\n",
    "debug_mode=True\n",
    "cfg_records=pd.read_csv(all_faiss_experiments_file_path)\n",
    "row = cfg_records.iloc[0].copy()\n",
    "print(row)\n",
    "cfg = ExperimentConfig(row)\n",
    "GlobalVars.set_segment_lenght_and_overlap(cfg._SEGMENT_LENGHT, cfg._SEGMENT_OVERLAP)\n",
    "faiss_results = faiss_tool.execute_configuration(cfg)\n",
    "print(\"results=\", faiss_results)"
   ]
  },
  {
   "cell_type": "code",
   "execution_count": null,
   "metadata": {},
   "outputs": [],
   "source": [
    "'''\n",
    "Execute all configurations from all_faiss_experiments_file_path\n",
    "'''\n",
    "exec.debug_mode=False\n",
    "execute_probability = 1\n",
    "do_normalize = True\n",
    "debug_mode = False\n",
    "repeat_no = 5\n",
    "index_type = 'hnsw_efsearch_50'\n",
    "\n",
    "\n",
    "all_faiss_experiments_file_path = 'experiments' + os.sep + f\"all_faiss_experiments_index_{index_type}.csv\"\n",
    "\n",
    "\n",
    "lib.combine_multiple_parameters_v3(all_faiss_experiments_file_path, ex_cfg.hnsw_efsearch_50)\n",
    "#cache_all_faiss_indexes(all_faiss_experiments_file_path)\n",
    "\n",
    "for i in range(repeat_no):\n",
    "    print(f\"Exceute round {i}\")\n",
    "    faiss_experiments_output_file = 'experiments' + os.sep + f\"executed_faiss_experiments_index_{index_type}_round{i}.csv\"\n",
    "    #exec.process_all_configs_by_threads(exec_tool=faiss_tool, input_file_path=all_faiss_experiments_file_path, output_file_path=faiss_experiments_output_file, num_threads = 4, chunk_size = 20)\n",
    "\n",
    "\n",
    "\"\"\" \n",
    "all rounds = 3 min    \n",
    "\"\"\""
   ]
  }
 ],
 "metadata": {
  "kernelspec": {
   "display_name": "Python 3",
   "language": "python",
   "name": "python3"
  },
  "language_info": {
   "codemirror_mode": {
    "name": "ipython",
    "version": 3
   },
   "file_extension": ".py",
   "mimetype": "text/x-python",
   "name": "python",
   "nbconvert_exporter": "python",
   "pygments_lexer": "ipython3",
   "version": "3.11.4"
  }
 },
 "nbformat": 4,
 "nbformat_minor": 2
}
