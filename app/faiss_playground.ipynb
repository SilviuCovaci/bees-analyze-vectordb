{
 "cells": [
  {
   "cell_type": "code",
   "execution_count": null,
   "metadata": {},
   "outputs": [],
   "source": [
    "\n",
    "\n",
    "import pandas as pd\n",
    "import numpy as np\n",
    "import os\n",
    "\n",
    "\n",
    "import library as lib\n",
    "from library import GlobalVars\n",
    "from library import ExperimentConfig\n",
    "import data_library as data_lib\n",
    "\n",
    "import faiss_experiment as faiss_tool\n",
    "import helpers.config_executor as executor\n",
    "\n",
    "\n",
    "import experiments_configurations as ex_cfg\n",
    "#\n",
    "lib.init_random_seed(lib.RANDOM_SEED)\n",
    "\n",
    "index_type=\"ivf_all\"\n",
    "faiss_experiments_output_file = GlobalVars.experiments_path + f\"executed_faiss_experiments_index_{index_type}.csv\"\n",
    "all_faiss_experiments_file_path= GlobalVars.experiments_path + f\"all_faiss_experiments_index_{index_type}.csv\"\n",
    "lib.combine_multiple_parameters_v3(all_faiss_experiments_file_path, ex_cfg.ivf_all)\n",
    "\n",
    "\n"
   ]
  },
  {
   "cell_type": "code",
   "execution_count": null,
   "metadata": {},
   "outputs": [],
   "source": [
    "\"\"\"\n",
    "Execute ONE configuration as test calling individual process\n",
    "\"\"\"\n",
    "os.environ[\"LOKY_MAX_CPU_COUNT\"] = \"8\"\n",
    "debug_mode=True\n",
    "cfg_records=pd.read_csv(all_faiss_experiments_file_path)\n",
    "row = cfg_records.iloc[0].copy()\n",
    "new_row = executor.launch_execute_configurations_as_process(faiss_tool, row, debug_mode=debug_mode)\n",
    "print(\"results=\", new_row)"
   ]
  },
  {
   "cell_type": "code",
   "execution_count": null,
   "metadata": {},
   "outputs": [],
   "source": [
    "\"\"\"\n",
    "Execute ONE configuration as test by library function call\n",
    "\"\"\"\n",
    "debug_mode=True\n",
    "cfg_records=pd.read_csv(all_faiss_experiments_file_path)\n",
    "row = cfg_records.iloc[0].copy()\n",
    "print(row)\n",
    "print(\"index params=\", row['index_params'], type(row[\"index_params\"]))\n",
    "cfg = ExperimentConfig(row)\n",
    "GlobalVars.set_segment_lenght_and_overlap(cfg._SEGMENT_LENGHT, cfg._SEGMENT_OVERLAP)\n",
    "\n",
    "\n",
    "faiss_results = faiss_tool.execute_configuration(cfg)\n",
    "print(\"results=\", faiss_results)"
   ]
  },
  {
   "cell_type": "code",
   "execution_count": null,
   "metadata": {},
   "outputs": [],
   "source": [
    "'''\n",
    "Execute all configurations from all_faiss_experiments_file_path\n",
    "'''\n",
    "do_normalize = True\n",
    "debug_mode = False\n",
    "repeat_no = 5\n",
    "index_type = 'ivf_all'\n",
    "\n",
    "\n",
    "all_faiss_experiments_file_path = GlobalVars.experiments_path + f\"all_faiss_experiments_index_{index_type}.csv\"\n",
    "\n",
    "\n",
    "lib.combine_multiple_parameters_v3(all_faiss_experiments_file_path, ex_cfg.ivf_all)\n",
    "\n",
    "for i in range(repeat_no):\n",
    "    print(f\"Execute round {i}\")\n",
    "    \n",
    "    #you can cache the indexes before if you want\n",
    "    #faiss_tool.cache_all_faiss_indexes(all_faiss_experiments_file_path)\n",
    "        \n",
    "    faiss_experiments_output_file = GlobalVars.experiments_path + f\"executed_faiss_experiments_index_{index_type}_round{i}.csv\"\n",
    "    executor.process_all_configs_by_threads(exec_tool=faiss_tool, input_file_path=all_faiss_experiments_file_path, output_file_path=faiss_experiments_output_file, num_threads = 4, chunk_size = 20)\n"
   ]
  }
 ],
 "metadata": {
  "kernelspec": {
   "display_name": "Python 3",
   "language": "python",
   "name": "python3"
  },
  "language_info": {
   "codemirror_mode": {
    "name": "ipython",
    "version": 3
   },
   "file_extension": ".py",
   "mimetype": "text/x-python",
   "name": "python",
   "nbconvert_exporter": "python",
   "pygments_lexer": "ipython3",
   "version": "3.11.4"
  }
 },
 "nbformat": 4,
 "nbformat_minor": 2
}
