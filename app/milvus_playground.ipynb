{
 "cells": [
  {
   "cell_type": "code",
   "execution_count": null,
   "metadata": {},
   "outputs": [],
   "source": [
    "import pandas as pd\n",
    "import numpy as np\n",
    "import time\n",
    "import os\n",
    "\n",
    "import random\n",
    "import library as lib\n",
    "import data_library as data_lib\n",
    "from library import GlobalVars\n",
    "from library import ExperimentConfig\n",
    "\n",
    "import milvus_experiment as milvus_tool\n",
    "from sklearn.metrics import accuracy_score, classification_report, confusion_matrix\n",
    "from sklearn.preprocessing import MinMaxScaler\n",
    "import experiments_configurations as ex_cfg\n",
    "from tqdm import tqdm\n",
    "\n",
    "milvus_tool.debug_mode = False\n",
    "\n",
    "\n",
    "lib.init_random_seed(42)\n",
    "\n",
    "index_type=\"milvus_pq_10\"\n",
    "all_milvus_experiments_file_path = GlobalVars.experiments_path + f\"all_milvus_experiments_index_{index_type}.csv\"\n",
    "lib.combine_multiple_parameters_v3(all_milvus_experiments_file_path, getattr(ex_cfg, index_type))\n",
    "milvus_experiments_output_file =  GlobalVars.experiments_path + f\"executed_milvus_experiments_index_{index_type}.csv\"\n"
   ]
  },
  {
   "cell_type": "code",
   "execution_count": null,
   "metadata": {},
   "outputs": [],
   "source": [
    "\n",
    "def build_configuration_all10sec():\n",
    "    cfg_dict = {\n",
    "        \"segment_lenght\": 10,            \n",
    "        \"segment_overlap\": 'all',    \n",
    "        \"feature\": \"pe-mfcc_40\",\n",
    "        \"vector_operation\": \"mean\",     \n",
    "        \"metric_type\": \"COSINE\",\n",
    "        \"index_params\": {'index_type': 'IVF_FLAT'},                    \n",
    "        \"normalize\": 1,\n",
    "        \"vote_type\": \"uniform\",\n",
    "        \"neighbors\": 15,\n",
    "    }\n",
    "    cfg = ExperimentConfig(cfg_dict)\n",
    "    return milvus_tool.create_and_fill_collection_for_specified_configuration(cfg, True)\n",
    "\n",
    "build_configuration_all10sec()"
   ]
  },
  {
   "cell_type": "code",
   "execution_count": null,
   "metadata": {},
   "outputs": [],
   "source": [
    "def execute_milvus_experiments(all_milvus_experiments_file_path, results_file_name):\n",
    "    milvus_tool.debug_mode=False\n",
    "    df = pd.read_csv(all_milvus_experiments_file_path)\n",
    "\n",
    "    top_n = None\n",
    "    if (not top_n is None):\n",
    "        df = df.head(top_n)\n",
    "    total_steps = len(df)\n",
    "\n",
    "    all_results = []\n",
    "    with tqdm(total=total_steps, desc=\"Evaluating configs\") as pbar:\n",
    "        for index, row in df.iterrows():\n",
    "            row['metric_type'] = row['metric_type'].replace(\"cosine\", \"COSINE\").replace('correlation', 'L2')  \n",
    "           \n",
    "            cfg = ExperimentConfig(row)\n",
    "            GlobalVars.set_segment_lenght_and_overlap(cfg._SEGMENT_LENGHT, cfg._SEGMENT_OVERLAP)\n",
    "    \n",
    "            new_row = row.copy()\n",
    "            metrics_json = milvus_tool.execute_configuration(cfg)\n",
    "            new_row = lib.extract_experiment_results(new_row=new_row, tool_results=metrics_json, process_key=f\"row_{index}\", error=\"\")                \n",
    "            all_results.append(new_row)\n",
    "            pbar.update(1) \n",
    "    fields_names = [\"type\",\"vector_operation\",\"metric_type\",\"neighbors\",\"vote_type\",\"accuracy\",\"precision_0\",\"precision_1\",\"precision_2\",\"precision_3\", \"train_elapsed_time\",\"predict_elapsed_time\",\"train_used_memory\",\"predict_used_memory\"]\n",
    "    fields_names = None\n",
    "    df = pd.DataFrame(all_results)\n",
    "    if (not fields_names is None):\n",
    "        df = df[fields_names]\n",
    "    df.to_csv(results_file_name, index=False)\n",
    "    return True\n",
    "\n",
    "print(\"all_milvus_experiments_file_path=\", all_milvus_experiments_file_path)\n",
    "execute_milvus_experiments(all_milvus_experiments_file_path=all_milvus_experiments_file_path, results_file_name=milvus_experiments_output_file)"
   ]
  }
 ],
 "metadata": {
  "kernelspec": {
   "display_name": "beesproject",
   "language": "python",
   "name": "python3"
  },
  "language_info": {
   "codemirror_mode": {
    "name": "ipython",
    "version": 3
   },
   "file_extension": ".py",
   "mimetype": "text/x-python",
   "name": "python",
   "nbconvert_exporter": "python",
   "pygments_lexer": "ipython3",
   "version": "3.11.10"
  }
 },
 "nbformat": 4,
 "nbformat_minor": 2
}
